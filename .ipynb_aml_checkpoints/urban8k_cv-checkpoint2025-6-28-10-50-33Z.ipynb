{
  "cells": [
    {
      "cell_type": "code",
      "source": [
        "!pip install torch torchvision "
      ],
      "outputs": [
        {
          "output_type": "stream",
          "name": "stdout",
          "text": "Requirement already satisfied: torch in /anaconda/envs/azureml_py38/lib/python3.10/site-packages (2.7.1)\r\nRequirement already satisfied: torchvision in /anaconda/envs/azureml_py38/lib/python3.10/site-packages (0.22.1)\r\nRequirement already satisfied: nvidia-cusparselt-cu12==0.6.3 in /anaconda/envs/azureml_py38/lib/python3.10/site-packages (from torch) (0.6.3)\r\nRequirement already satisfied: nvidia-nvtx-cu12==12.6.77 in /anaconda/envs/azureml_py38/lib/python3.10/site-packages (from torch) (12.6.77)\r\nRequirement already satisfied: jinja2 in /anaconda/envs/azureml_py38/lib/python3.10/site-packages (from torch) (3.1.6)\r\nRequirement already satisfied: nvidia-cuda-nvrtc-cu12==12.6.77 in /anaconda/envs/azureml_py38/lib/python3.10/site-packages (from torch) (12.6.77)\r\nRequirement already satisfied: filelock in /anaconda/envs/azureml_py38/lib/python3.10/site-packages (from torch) (3.18.0)\r\nRequirement already satisfied: nvidia-cufft-cu12==11.3.0.4 in /anaconda/envs/azureml_py38/lib/python3.10/site-packages (from torch) (11.3.0.4)\r\nRequirement already satisfied: nvidia-nccl-cu12==2.26.2 in /anaconda/envs/azureml_py38/lib/python3.10/site-packages (from torch) (2.26.2)\r\nRequirement already satisfied: typing-extensions>=4.10.0 in /anaconda/envs/azureml_py38/lib/python3.10/site-packages (from torch) (4.14.1)\r\nRequirement already satisfied: networkx in /anaconda/envs/azureml_py38/lib/python3.10/site-packages (from torch) (3.4.2)\r\nRequirement already satisfied: nvidia-cudnn-cu12==9.5.1.17 in /anaconda/envs/azureml_py38/lib/python3.10/site-packages (from torch) (9.5.1.17)\r\nRequirement already satisfied: sympy>=1.13.3 in /anaconda/envs/azureml_py38/lib/python3.10/site-packages (from torch) (1.13.3)\r\nRequirement already satisfied: nvidia-cuda-cupti-cu12==12.6.80 in /anaconda/envs/azureml_py38/lib/python3.10/site-packages (from torch) (12.6.80)\r\nRequirement already satisfied: nvidia-curand-cu12==10.3.7.77 in /anaconda/envs/azureml_py38/lib/python3.10/site-packages (from torch) (10.3.7.77)\r\nRequirement already satisfied: nvidia-cufile-cu12==1.11.1.6 in /anaconda/envs/azureml_py38/lib/python3.10/site-packages (from torch) (1.11.1.6)\r\nRequirement already satisfied: nvidia-nvjitlink-cu12==12.6.85 in /anaconda/envs/azureml_py38/lib/python3.10/site-packages (from torch) (12.6.85)\r\nRequirement already satisfied: nvidia-cusparse-cu12==12.5.4.2 in /anaconda/envs/azureml_py38/lib/python3.10/site-packages (from torch) (12.5.4.2)\r\nRequirement already satisfied: nvidia-cublas-cu12==12.6.4.1 in /anaconda/envs/azureml_py38/lib/python3.10/site-packages (from torch) (12.6.4.1)\r\nRequirement already satisfied: nvidia-cuda-runtime-cu12==12.6.77 in /anaconda/envs/azureml_py38/lib/python3.10/site-packages (from torch) (12.6.77)\r\nRequirement already satisfied: nvidia-cusolver-cu12==11.7.1.2 in /anaconda/envs/azureml_py38/lib/python3.10/site-packages (from torch) (11.7.1.2)\r\nRequirement already satisfied: fsspec in /anaconda/envs/azureml_py38/lib/python3.10/site-packages (from torch) (2023.10.0)\r\nRequirement already satisfied: triton==3.3.1 in /anaconda/envs/azureml_py38/lib/python3.10/site-packages (from torch) (3.3.1)\r\nRequirement already satisfied: setuptools>=40.8.0 in /anaconda/envs/azureml_py38/lib/python3.10/site-packages (from triton==3.3.1->torch) (75.8.0)\r\nRequirement already satisfied: numpy in /anaconda/envs/azureml_py38/lib/python3.10/site-packages (from torchvision) (1.23.5)\r\nRequirement already satisfied: pillow!=8.3.*,>=5.3.0 in /anaconda/envs/azureml_py38/lib/python3.10/site-packages (from torchvision) (9.2.0)\r\nRequirement already satisfied: mpmath<1.4,>=1.1.0 in /anaconda/envs/azureml_py38/lib/python3.10/site-packages (from sympy>=1.13.3->torch) (1.3.0)\r\nRequirement already satisfied: MarkupSafe>=2.0 in /anaconda/envs/azureml_py38/lib/python3.10/site-packages (from jinja2->torch) (2.0.1)\r\n"
        }
      ],
      "execution_count": 1,
      "metadata": {}
    },
    {
      "cell_type": "code",
      "source": [
        "import pandas as pd\n",
        "\n",
        "# Load the metadata file (adjust path based on your folder)\n",
        "metadata_path = 'UrbanSound8K/metadata/UrbanSound8K.csv'\n",
        "df = pd.read_csv(metadata_path)\n",
        "print(df.head())"
      ],
      "outputs": [
        {
          "output_type": "stream",
          "name": "stdout",
          "text": "      slice_file_name    fsID  start        end  salience  fold  classID  \\\n0    100032-3-0-0.wav  100032    0.0   0.317551         1     5        3   \n1  100263-2-0-117.wav  100263   58.5  62.500000         1     5        2   \n2  100263-2-0-121.wav  100263   60.5  64.500000         1     5        2   \n3  100263-2-0-126.wav  100263   63.0  67.000000         1     5        2   \n4  100263-2-0-137.wav  100263   68.5  72.500000         1     5        2   \n\n              class  \n0          dog_bark  \n1  children_playing  \n2  children_playing  \n3  children_playing  \n4  children_playing  \n"
        }
      ],
      "execution_count": 2,
      "metadata": {
        "gather": {
          "logged": 1753699534560
        }
      }
    },
    {
      "cell_type": "code",
      "source": [
        "from torchvision import datasets, transforms\n",
        "from torch.utils.data import DataLoader\n",
        "\n",
        "# Define data transformations\n",
        "data_transform = transforms.Compose([\n",
        "    transforms.Resize((224, 224)),  # Resize to 224x224 for ResNet\n",
        "    transforms.ToTensor(),          # Convert to tensor\n",
        "    transforms.Normalize(mean=[0.485, 0.456, 0.406], std=[0.229, 0.224, 0.225])  # ImageNet normalization\n",
        "])\n",
        "\n",
        "# Load the dataset from the spectrograms folder\n",
        "dataset = datasets.ImageFolder('spectrograms/', transform=data_transform)\n",
        "dataloader = DataLoader(dataset, batch_size=32, shuffle=True)\n",
        "\n",
        "# Print dataset info\n",
        "print(f\"Number of samples: {len(dataset)}\")\n",
        "print(f\"Classes: {dataset.classes}\")"
      ],
      "outputs": [
        {
          "output_type": "stream",
          "name": "stdout",
          "text": "Number of samples: 8732\nClasses: ['air_conditioner', 'car_horn', 'children_playing', 'dog_bark', 'drilling', 'engine_idling', 'gun_shot', 'jackhammer', 'siren', 'street_music']\n"
        }
      ],
      "execution_count": 3,
      "metadata": {
        "gather": {
          "logged": 1753699553634
        }
      }
    },
    {
      "cell_type": "code",
      "source": [],
      "outputs": [],
      "execution_count": null,
      "metadata": {}
    }
  ],
  "metadata": {
    "kernelspec": {
      "name": "python38-azureml-pt-tf",
      "language": "python",
      "display_name": "Python 3.10 - Pytorch and Tensorflow"
    },
    "language_info": {
      "name": "python",
      "version": "3.10.16",
      "mimetype": "text/x-python",
      "codemirror_mode": {
        "name": "ipython",
        "version": 3
      },
      "pygments_lexer": "ipython3",
      "nbconvert_exporter": "python",
      "file_extension": ".py"
    },
    "microsoft": {
      "ms_spell_check": {
        "ms_spell_check_language": "en"
      }
    },
    "kernel_info": {
      "name": "python38-azureml-pt-tf"
    },
    "nteract": {
      "version": "nteract-front-end@1.0.0"
    }
  },
  "nbformat": 4,
  "nbformat_minor": 2
}