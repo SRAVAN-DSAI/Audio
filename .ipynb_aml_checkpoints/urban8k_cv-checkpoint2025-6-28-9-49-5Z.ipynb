{
  "cells": [
    {
      "cell_type": "code",
      "source": [
        "!pip install librosa torch torchvision azureml-core azureml-sdk"
      ],
      "outputs": [
        {
          "output_type": "stream",
          "name": "stdout",
          "text": "Requirement already satisfied: librosa in /anaconda/envs/azureml_py38/lib/python3.10/site-packages (0.11.0)\nRequirement already satisfied: torch in /anaconda/envs/azureml_py38/lib/python3.10/site-packages (2.7.1)\nRequirement already satisfied: torchvision in /anaconda/envs/azureml_py38/lib/python3.10/site-packages (0.22.1)\nRequirement already satisfied: azureml-core in /anaconda/envs/azureml_py38/lib/python3.10/site-packages (1.60.0)\nRequirement already satisfied: azureml-sdk in /anaconda/envs/azureml_py38/lib/python3.10/site-packages (1.60.0)\nRequirement already satisfied: numba>=0.51.0 in /anaconda/envs/azureml_py38/lib/python3.10/site-packages (from librosa) (0.56.4)\nRequirement already satisfied: soxr>=0.3.2 in /anaconda/envs/azureml_py38/lib/python3.10/site-packages (from librosa) (0.5.0.post1)\nRequirement already satisfied: lazy_loader>=0.1 in /anaconda/envs/azureml_py38/lib/python3.10/site-packages (from librosa) (0.4)\nRequirement already satisfied: joblib>=1.0 in /anaconda/envs/azureml_py38/lib/python3.10/site-packages (from librosa) (1.2.0)\nRequirement already satisfied: scikit-learn>=1.1.0 in /anaconda/envs/azureml_py38/lib/python3.10/site-packages (from librosa) (1.5.1)\nRequirement already satisfied: typing_extensions>=4.1.1 in /anaconda/envs/azureml_py38/lib/python3.10/site-packages (from librosa) (4.14.1)\nRequirement already satisfied: soundfile>=0.12.1 in /anaconda/envs/azureml_py38/lib/python3.10/site-packages (from librosa) (0.13.1)\nRequirement already satisfied: numpy>=1.22.3 in /anaconda/envs/azureml_py38/lib/python3.10/site-packages (from librosa) (1.23.5)\nRequirement already satisfied: audioread>=2.1.9 in /anaconda/envs/azureml_py38/lib/python3.10/site-packages (from librosa) (3.0.1)\nRequirement already satisfied: msgpack>=1.0 in /anaconda/envs/azureml_py38/lib/python3.10/site-packages (from librosa) (1.1.0)\nRequirement already satisfied: decorator>=4.3.0 in /anaconda/envs/azureml_py38/lib/python3.10/site-packages (from librosa) (5.2.1)\nRequirement already satisfied: scipy>=1.6.0 in /anaconda/envs/azureml_py38/lib/python3.10/site-packages (from librosa) (1.11.0)\nRequirement already satisfied: pooch>=1.1 in /anaconda/envs/azureml_py38/lib/python3.10/site-packages (from librosa) (1.8.2)\nRequirement already satisfied: networkx in /anaconda/envs/azureml_py38/lib/python3.10/site-packages (from torch) (3.4.2)\nRequirement already satisfied: jinja2 in /anaconda/envs/azureml_py38/lib/python3.10/site-packages (from torch) (3.1.6)\nRequirement already satisfied: fsspec in /anaconda/envs/azureml_py38/lib/python3.10/site-packages (from torch) (2023.10.0)\nRequirement already satisfied: nvidia-cusparse-cu12==12.5.4.2 in /anaconda/envs/azureml_py38/lib/python3.10/site-packages (from torch) (12.5.4.2)\nRequirement already satisfied: nvidia-cufft-cu12==11.3.0.4 in /anaconda/envs/azureml_py38/lib/python3.10/site-packages (from torch) (11.3.0.4)\nRequirement already satisfied: nvidia-nccl-cu12==2.26.2 in /anaconda/envs/azureml_py38/lib/python3.10/site-packages (from torch) (2.26.2)\nRequirement already satisfied: nvidia-cuda-nvrtc-cu12==12.6.77 in /anaconda/envs/azureml_py38/lib/python3.10/site-packages (from torch) (12.6.77)\nRequirement already satisfied: nvidia-cusolver-cu12==11.7.1.2 in /anaconda/envs/azureml_py38/lib/python3.10/site-packages (from torch) (11.7.1.2)\nRequirement already satisfied: nvidia-cuda-runtime-cu12==12.6.77 in /anaconda/envs/azureml_py38/lib/python3.10/site-packages (from torch) (12.6.77)\nRequirement already satisfied: triton==3.3.1 in /anaconda/envs/azureml_py38/lib/python3.10/site-packages (from torch) (3.3.1)\nRequirement already satisfied: nvidia-curand-cu12==10.3.7.77 in /anaconda/envs/azureml_py38/lib/python3.10/site-packages (from torch) (10.3.7.77)\nRequirement already satisfied: filelock in /anaconda/envs/azureml_py38/lib/python3.10/site-packages (from torch) (3.18.0)\nRequirement already satisfied: nvidia-nvjitlink-cu12==12.6.85 in /anaconda/envs/azureml_py38/lib/python3.10/site-packages (from torch) (12.6.85)\nRequirement already satisfied: nvidia-cublas-cu12==12.6.4.1 in /anaconda/envs/azureml_py38/lib/python3.10/site-packages (from torch) (12.6.4.1)\nRequirement already satisfied: sympy>=1.13.3 in /anaconda/envs/azureml_py38/lib/python3.10/site-packages (from torch) (1.13.3)\nRequirement already satisfied: nvidia-cudnn-cu12==9.5.1.17 in /anaconda/envs/azureml_py38/lib/python3.10/site-packages (from torch) (9.5.1.17)\nRequirement already satisfied: nvidia-cusparselt-cu12==0.6.3 in /anaconda/envs/azureml_py38/lib/python3.10/site-packages (from torch) (0.6.3)\nRequirement already satisfied: nvidia-cufile-cu12==1.11.1.6 in /anaconda/envs/azureml_py38/lib/python3.10/site-packages (from torch) (1.11.1.6)\nRequirement already satisfied: nvidia-cuda-cupti-cu12==12.6.80 in /anaconda/envs/azureml_py38/lib/python3.10/site-packages (from torch) (12.6.80)\nRequirement already satisfied: nvidia-nvtx-cu12==12.6.77 in /anaconda/envs/azureml_py38/lib/python3.10/site-packages (from torch) (12.6.77)\nRequirement already satisfied: setuptools>=40.8.0 in /anaconda/envs/azureml_py38/lib/python3.10/site-packages (from triton==3.3.1->torch) (75.8.0)\nRequirement already satisfied: pillow!=8.3.*,>=5.3.0 in /anaconda/envs/azureml_py38/lib/python3.10/site-packages (from torchvision) (9.2.0)\nRequirement already satisfied: jmespath<2.0.0 in /anaconda/envs/azureml_py38/lib/python3.10/site-packages (from azureml-core) (0.10.0)\nRequirement already satisfied: contextlib2<22.0.0 in /anaconda/envs/azureml_py38/lib/python3.10/site-packages (from azureml-core) (21.6.0)\nRequirement already satisfied: knack<0.13.0 in /anaconda/envs/azureml_py38/lib/python3.10/site-packages (from azureml-core) (0.11.0)\nRequirement already satisfied: ndg-httpsclient<=0.5.1 in /anaconda/envs/azureml_py38/lib/python3.10/site-packages (from azureml-core) (0.5.1)\nRequirement already satisfied: msrestazure<=0.7,>=0.4.33 in /anaconda/envs/azureml_py38/lib/python3.10/site-packages (from azureml-core) (0.6.4.post1)\nRequirement already satisfied: docker<8.0.0 in /anaconda/envs/azureml_py38/lib/python3.10/site-packages (from azureml-core) (7.1.0)\nRequirement already satisfied: backports.tempfile in /anaconda/envs/azureml_py38/lib/python3.10/site-packages (from azureml-core) (1.0)\nRequirement already satisfied: adal<=1.2.7,>=1.2.0 in /anaconda/envs/azureml_py38/lib/python3.10/site-packages (from azureml-core) (1.2.7)\nRequirement already satisfied: humanfriendly<11.0,>=4.7 in /anaconda/envs/azureml_py38/lib/python3.10/site-packages (from azureml-core) (10.0)\nRequirement already satisfied: azure-mgmt-keyvault<11.0.0,>=0.40.0 in /anaconda/envs/azureml_py38/lib/python3.10/site-packages (from azureml-core) (10.3.1)\nRequirement already satisfied: azure-mgmt-resource<=24.0.0,>=15.0.0 in /anaconda/envs/azureml_py38/lib/python3.10/site-packages (from azureml-core) (23.3.0)\nRequirement already satisfied: msrest<=0.7.1,>=0.5.1 in /anaconda/envs/azureml_py38/lib/python3.10/site-packages (from azureml-core) (0.7.1)\nRequirement already satisfied: pathspec<1.0.0 in /anaconda/envs/azureml_py38/lib/python3.10/site-packages (from azureml-core) (0.12.1)\nRequirement already satisfied: azure-mgmt-storage<=23.0.0,>=16.0.0 in /anaconda/envs/azureml_py38/lib/python3.10/site-packages (from azureml-core) (22.0.0)\nRequirement already satisfied: pyopenssl<26.0.0 in /anaconda/envs/azureml_py38/lib/python3.10/site-packages (from azureml-core) (23.0.0)\nRequirement already satisfied: azure-mgmt-authorization<5,>=0.40.0 in /anaconda/envs/azureml_py38/lib/python3.10/site-packages (from azureml-core) (4.0.0)\nRequirement already satisfied: azure-graphrbac<1.0.0,>=0.40.0 in /anaconda/envs/azureml_py38/lib/python3.10/site-packages (from azureml-core) (0.60.0)\nRequirement already satisfied: packaging<=25.0,>=20.0 in /anaconda/envs/azureml_py38/lib/python3.10/site-packages (from azureml-core) (25.0)\nRequirement already satisfied: jsonpickle<5.0.0 in /anaconda/envs/azureml_py38/lib/python3.10/site-packages (from azureml-core) (4.0.5)\nRequirement already satisfied: PyJWT<3.0.0 in /anaconda/envs/azureml_py38/lib/python3.10/site-packages (from azureml-core) (2.4.0)\nRequirement already satisfied: requests[socks]<3.0.0,>=2.19.1 in /anaconda/envs/azureml_py38/lib/python3.10/site-packages (from azureml-core) (2.32.4)\nRequirement already satisfied: pkginfo in /anaconda/envs/azureml_py38/lib/python3.10/site-packages (from azureml-core) (1.12.1.2)\nRequirement already satisfied: azure-common<2.0.0,>=1.1.12 in /anaconda/envs/azureml_py38/lib/python3.10/site-packages (from azureml-core) (1.1.28)\nRequirement already satisfied: azure-core<2.0.0 in /anaconda/envs/azureml_py38/lib/python3.10/site-packages (from azureml-core) (1.33.0)\nRequirement already satisfied: python-dateutil<3.0.0,>=2.7.3 in /anaconda/envs/azureml_py38/lib/python3.10/site-packages (from azureml-core) (2.9.0.post0)\nRequirement already satisfied: argcomplete<4 in /anaconda/envs/azureml_py38/lib/python3.10/site-packages (from azureml-core) (3.5.3)\nRequirement already satisfied: paramiko<4.0.0,>=2.0.8 in /anaconda/envs/azureml_py38/lib/python3.10/site-packages (from azureml-core) (3.5.1)\nRequirement already satisfied: msal<2.0.0,>=1.15.0 in /anaconda/envs/azureml_py38/lib/python3.10/site-packages (from azureml-core) (1.33.0b1)\nRequirement already satisfied: msal-extensions<=2.0.0,>=0.3.0 in /anaconda/envs/azureml_py38/lib/python3.10/site-packages (from azureml-core) (1.2.0)\nRequirement already satisfied: azure-mgmt-containerregistry<11,>=8.2.0 in /anaconda/envs/azureml_py38/lib/python3.10/site-packages (from azureml-core) (9.0.0)\nRequirement already satisfied: azure-mgmt-network<=29.0.0 in /anaconda/envs/azureml_py38/lib/python3.10/site-packages (from azureml-core) (26.0.0)\nRequirement already satisfied: urllib3<3.0.0,>1.26.17 in /anaconda/envs/azureml_py38/lib/python3.10/site-packages (from azureml-core) (2.5.0)\nRequirement already satisfied: pytz in /anaconda/envs/azureml_py38/lib/python3.10/site-packages (from azureml-core) (2022.5)\nRequirement already satisfied: SecretStorage<4.0.0 in /anaconda/envs/azureml_py38/lib/python3.10/site-packages (from azureml-core) (3.3.3)\nRequirement already satisfied: azureml-pipeline~=1.60.0 in /anaconda/envs/azureml_py38/lib/python3.10/site-packages (from azureml-sdk) (1.60.0)\nRequirement already satisfied: azureml-train-core~=1.60.0 in /anaconda/envs/azureml_py38/lib/python3.10/site-packages (from azureml-sdk) (1.60.0)\nRequirement already satisfied: azureml-train-automl-client~=1.60.0 in /anaconda/envs/azureml_py38/lib/python3.10/site-packages (from azureml-sdk) (1.60.0)\nRequirement already satisfied: azureml-dataset-runtime[fuse]~=1.60.0 in /anaconda/envs/azureml_py38/lib/python3.10/site-packages (from azureml-sdk) (1.60.0)\nRequirement already satisfied: cryptography>=1.1.0 in /anaconda/envs/azureml_py38/lib/python3.10/site-packages (from adal<=1.2.7,>=1.2.0->azureml-core) (38.0.4)\nRequirement already satisfied: six>=1.11.0 in /anaconda/envs/azureml_py38/lib/python3.10/site-packages (from azure-core<2.0.0->azureml-core) (1.17.0)\nRequirement already satisfied: isodate<1.0.0,>=0.6.1 in /anaconda/envs/azureml_py38/lib/python3.10/site-packages (from azure-mgmt-authorization<5,>=0.40.0->azureml-core) (0.7.2)\nRequirement already satisfied: azure-mgmt-core<2.0.0,>=1.3.2 in /anaconda/envs/azureml_py38/lib/python3.10/site-packages (from azure-mgmt-authorization<5,>=0.40.0->azureml-core) (1.5.0)\nRequirement already satisfied: pyarrow>=0.17.0 in /anaconda/envs/azureml_py38/lib/python3.10/site-packages (from azureml-dataset-runtime[fuse]~=1.60.0->azureml-sdk) (14.0.2)\nRequirement already satisfied: azureml-dataprep<5.2.0a,>=5.1.0a in /anaconda/envs/azureml_py38/lib/python3.10/site-packages (from azureml-dataset-runtime[fuse]~=1.60.0->azureml-sdk) (5.1.6)\nRequirement already satisfied: fusepy<4.0.0,>=3.0.1 in /anaconda/envs/azureml_py38/lib/python3.10/site-packages (from azureml-dataset-runtime[fuse]~=1.60.0->azureml-sdk) (3.0.1)\nRequirement already satisfied: azureml-pipeline-steps~=1.60.0 in /anaconda/envs/azureml_py38/lib/python3.10/site-packages (from azureml-pipeline~=1.60.0->azureml-sdk) (1.60.0)\nRequirement already satisfied: azureml-pipeline-core~=1.60.0 in /anaconda/envs/azureml_py38/lib/python3.10/site-packages (from azureml-pipeline~=1.60.0->azureml-sdk) (1.60.0)\nRequirement already satisfied: azureml-automl-core~=1.60.0 in /anaconda/envs/azureml_py38/lib/python3.10/site-packages (from azureml-train-automl-client~=1.60.0->azureml-sdk) (1.60.0)\nRequirement already satisfied: azureml-telemetry~=1.60.0 in /anaconda/envs/azureml_py38/lib/python3.10/site-packages (from azureml-train-automl-client~=1.60.0->azureml-sdk) (1.60.0)\nRequirement already satisfied: azureml-train-restclients-hyperdrive~=1.60.0 in /anaconda/envs/azureml_py38/lib/python3.10/site-packages (from azureml-train-core~=1.60.0->azureml-sdk) (1.60.0)\nRequirement already satisfied: tabulate in /anaconda/envs/azureml_py38/lib/python3.10/site-packages (from knack<0.13.0->azureml-core) (0.9.0)\nRequirement already satisfied: pyyaml in /anaconda/envs/azureml_py38/lib/python3.10/site-packages (from knack<0.13.0->azureml-core) (6.0.2)\nRequirement already satisfied: pygments in /anaconda/envs/azureml_py38/lib/python3.10/site-packages (from knack<0.13.0->azureml-core) (2.19.2)\nRequirement already satisfied: portalocker<3,>=1.4 in /anaconda/envs/azureml_py38/lib/python3.10/site-packages (from msal-extensions<=2.0.0,>=0.3.0->azureml-core) (2.10.1)\nRequirement already satisfied: requests-oauthlib>=0.5.0 in /anaconda/envs/azureml_py38/lib/python3.10/site-packages (from msrest<=0.7.1,>=0.5.1->azureml-core) (2.0.0)\nRequirement already satisfied: certifi>=2017.4.17 in /anaconda/envs/azureml_py38/lib/python3.10/site-packages (from msrest<=0.7.1,>=0.5.1->azureml-core) (2025.7.9)\nRequirement already satisfied: pyasn1>=0.1.1 in /anaconda/envs/azureml_py38/lib/python3.10/site-packages (from ndg-httpsclient<=0.5.1->azureml-core) (0.6.1)\nRequirement already satisfied: llvmlite<0.40,>=0.39.0dev0 in /anaconda/envs/azureml_py38/lib/python3.10/site-packages (from numba>=0.51.0->librosa) (0.39.1)\nRequirement already satisfied: bcrypt>=3.2 in /anaconda/envs/azureml_py38/lib/python3.10/site-packages (from paramiko<4.0.0,>=2.0.8->azureml-core) (4.3.0)\nRequirement already satisfied: pynacl>=1.5 in /anaconda/envs/azureml_py38/lib/python3.10/site-packages (from paramiko<4.0.0,>=2.0.8->azureml-core) (1.5.0)\nRequirement already satisfied: platformdirs>=2.5.0 in /anaconda/envs/azureml_py38/lib/python3.10/site-packages (from pooch>=1.1->librosa) (4.3.8)\nRequirement already satisfied: idna<4,>=2.5 in /anaconda/envs/azureml_py38/lib/python3.10/site-packages (from requests[socks]<3.0.0,>=2.19.1->azureml-core) (3.10)\nRequirement already satisfied: charset_normalizer<4,>=2 in /anaconda/envs/azureml_py38/lib/python3.10/site-packages (from requests[socks]<3.0.0,>=2.19.1->azureml-core) (3.4.2)\nRequirement already satisfied: PySocks!=1.5.7,>=1.5.6 in /anaconda/envs/azureml_py38/lib/python3.10/site-packages (from requests[socks]<3.0.0,>=2.19.1->azureml-core) (1.7.1)\nRequirement already satisfied: threadpoolctl>=3.1.0 in /anaconda/envs/azureml_py38/lib/python3.10/site-packages (from scikit-learn>=1.1.0->librosa) (3.6.0)\nRequirement already satisfied: jeepney>=0.6 in /anaconda/envs/azureml_py38/lib/python3.10/site-packages (from SecretStorage<4.0.0->azureml-core) (0.9.0)\nRequirement already satisfied: cffi>=1.0 in /anaconda/envs/azureml_py38/lib/python3.10/site-packages (from soundfile>=0.12.1->librosa) (1.17.1)\nRequirement already satisfied: mpmath<1.4,>=1.1.0 in /anaconda/envs/azureml_py38/lib/python3.10/site-packages (from sympy>=1.13.3->torch) (1.3.0)\nRequirement already satisfied: backports.weakref in /anaconda/envs/azureml_py38/lib/python3.10/site-packages (from backports.tempfile->azureml-core) (1.0.post1)\nRequirement already satisfied: MarkupSafe>=2.0 in /anaconda/envs/azureml_py38/lib/python3.10/site-packages (from jinja2->torch) (2.0.1)\nRequirement already satisfied: importlib-metadata<=8.2.0 in /anaconda/envs/azureml_py38/lib/python3.10/site-packages (from azureml-automl-core~=1.60.0->azureml-train-automl-client~=1.60.0->azureml-sdk) (8.2.0)\nRequirement already satisfied: importlib-resources<=6.4.0 in /anaconda/envs/azureml_py38/lib/python3.10/site-packages (from azureml-automl-core~=1.60.0->azureml-train-automl-client~=1.60.0->azureml-sdk) (6.4.0)\nRequirement already satisfied: azureml-dataprep-rslex~=2.22.2dev0 in /anaconda/envs/azureml_py38/lib/python3.10/site-packages (from azureml-dataprep<5.2.0a,>=5.1.0a->azureml-dataset-runtime[fuse]~=1.60.0->azureml-sdk) (2.22.5)\nRequirement already satisfied: cloudpickle<3.0.0,>=1.1.0 in /anaconda/envs/azureml_py38/lib/python3.10/site-packages (from azureml-dataprep<5.2.0a,>=5.1.0a->azureml-dataset-runtime[fuse]~=1.60.0->azureml-sdk) (2.2.1)\nRequirement already satisfied: jsonschema in /anaconda/envs/azureml_py38/lib/python3.10/site-packages (from azureml-dataprep<5.2.0a,>=5.1.0a->azureml-dataset-runtime[fuse]~=1.60.0->azureml-sdk) (4.24.0)\nRequirement already satisfied: azureml-dataprep-native<42.0.0,>=41.0.0 in /anaconda/envs/azureml_py38/lib/python3.10/site-packages (from azureml-dataprep<5.2.0a,>=5.1.0a->azureml-dataset-runtime[fuse]~=1.60.0->azureml-sdk) (41.0.0)\nRequirement already satisfied: azure-identity>=1.7.0 in /anaconda/envs/azureml_py38/lib/python3.10/site-packages (from azureml-dataprep<5.2.0a,>=5.1.0a->azureml-dataset-runtime[fuse]~=1.60.0->azureml-sdk) (1.21.0)\nRequirement already satisfied: applicationinsights in /anaconda/envs/azureml_py38/lib/python3.10/site-packages (from azureml-telemetry~=1.60.0->azureml-train-automl-client~=1.60.0->azureml-sdk) (0.11.10)\nRequirement already satisfied: pycparser in /anaconda/envs/azureml_py38/lib/python3.10/site-packages (from cffi>=1.0->soundfile>=0.12.1->librosa) (2.22)\nRequirement already satisfied: oauthlib>=3.0.0 in /anaconda/envs/azureml_py38/lib/python3.10/site-packages (from requests-oauthlib>=0.5.0->msrest<=0.7.1,>=0.5.1->azureml-core) (3.2.2)\nRequirement already satisfied: zipp>=0.5 in /anaconda/envs/azureml_py38/lib/python3.10/site-packages (from importlib-metadata<=8.2.0->azureml-automl-core~=1.60.0->azureml-train-automl-client~=1.60.0->azureml-sdk) (3.19.2)\nRequirement already satisfied: attrs>=22.2.0 in /anaconda/envs/azureml_py38/lib/python3.10/site-packages (from jsonschema->azureml-dataprep<5.2.0a,>=5.1.0a->azureml-dataset-runtime[fuse]~=1.60.0->azureml-sdk) (25.3.0)\nRequirement already satisfied: rpds-py>=0.7.1 in /anaconda/envs/azureml_py38/lib/python3.10/site-packages (from jsonschema->azureml-dataprep<5.2.0a,>=5.1.0a->azureml-dataset-runtime[fuse]~=1.60.0->azureml-sdk) (0.24.0)\nRequirement already satisfied: jsonschema-specifications>=2023.03.6 in /anaconda/envs/azureml_py38/lib/python3.10/site-packages (from jsonschema->azureml-dataprep<5.2.0a,>=5.1.0a->azureml-dataset-runtime[fuse]~=1.60.0->azureml-sdk) (2025.4.1)\nRequirement already satisfied: referencing>=0.28.4 in /anaconda/envs/azureml_py38/lib/python3.10/site-packages (from jsonschema->azureml-dataprep<5.2.0a,>=5.1.0a->azureml-dataset-runtime[fuse]~=1.60.0->azureml-sdk) (0.36.2)\n"
        }
      ],
      "execution_count": 1,
      "metadata": {}
    },
    {
      "cell_type": "code",
      "source": [
        "import pandas as pd\n",
        "\n",
        "# Load the metadata file (adjust path based on your folder)\n",
        "metadata_path = 'UrbanSound8K/metadata/UrbanSound8K.csv'\n",
        "df = pd.read_csv(metadata_path)\n",
        "print(df.head())"
      ],
      "outputs": [
        {
          "output_type": "stream",
          "name": "stdout",
          "text": "      slice_file_name    fsID  start        end  salience  fold  classID  \\\n0    100032-3-0-0.wav  100032    0.0   0.317551         1     5        3   \n1  100263-2-0-117.wav  100263   58.5  62.500000         1     5        2   \n2  100263-2-0-121.wav  100263   60.5  64.500000         1     5        2   \n3  100263-2-0-126.wav  100263   63.0  67.000000         1     5        2   \n4  100263-2-0-137.wav  100263   68.5  72.500000         1     5        2   \n\n              class  \n0          dog_bark  \n1  children_playing  \n2  children_playing  \n3  children_playing  \n4  children_playing  \n"
        }
      ],
      "execution_count": 2,
      "metadata": {
        "gather": {
          "logged": 1753695888502
        }
      }
    },
    {
      "cell_type": "code",
      "source": [
        "from torchvision import datasets, transforms\n",
        "from torch.utils.data import DataLoader\n",
        "\n",
        "# Define data transformations\n",
        "data_transform = transforms.Compose([\n",
        "    transforms.Resize((224, 224)),  # Resize to 224x224 for ResNet\n",
        "    transforms.ToTensor(),          # Convert to tensor\n",
        "    transforms.Normalize(mean=[0.485, 0.456, 0.406], std=[0.229, 0.224, 0.225])  # ImageNet normalization\n",
        "])\n",
        "\n",
        "# Load the dataset from the spectrograms folder\n",
        "dataset = datasets.ImageFolder('spectrograms/', transform=data_transform)\n",
        "dataloader = DataLoader(dataset, batch_size=32, shuffle=True)\n",
        "\n",
        "# Print dataset info\n",
        "print(f\"Number of samples: {len(dataset)}\")\n",
        "print(f\"Classes: {dataset.classes}\")"
      ],
      "outputs": [
        {
          "output_type": "error",
          "ename": "ModuleNotFoundError",
          "evalue": "No module named 'torchvision'",
          "traceback": [
            "\u001b[0;31m---------------------------------------------------------------------------\u001b[0m",
            "\u001b[0;31mModuleNotFoundError\u001b[0m                       Traceback (most recent call last)",
            "Cell \u001b[0;32mIn[3], line 1\u001b[0m\n\u001b[0;32m----> 1\u001b[0m \u001b[38;5;28;01mfrom\u001b[39;00m\u001b[38;5;250m \u001b[39m\u001b[38;5;21;01mtorchvision\u001b[39;00m\u001b[38;5;250m \u001b[39m\u001b[38;5;28;01mimport\u001b[39;00m datasets, transforms\n\u001b[1;32m      2\u001b[0m \u001b[38;5;28;01mfrom\u001b[39;00m\u001b[38;5;250m \u001b[39m\u001b[38;5;21;01mtorch\u001b[39;00m\u001b[38;5;21;01m.\u001b[39;00m\u001b[38;5;21;01mutils\u001b[39;00m\u001b[38;5;21;01m.\u001b[39;00m\u001b[38;5;21;01mdata\u001b[39;00m\u001b[38;5;250m \u001b[39m\u001b[38;5;28;01mimport\u001b[39;00m DataLoader\n\u001b[1;32m      4\u001b[0m \u001b[38;5;66;03m# Define data transformations\u001b[39;00m\n",
            "\u001b[0;31mModuleNotFoundError\u001b[0m: No module named 'torchvision'"
          ]
        }
      ],
      "execution_count": 3,
      "metadata": {
        "gather": {
          "logged": 1753695888798
        }
      }
    },
    {
      "cell_type": "code",
      "source": [],
      "outputs": [],
      "execution_count": null,
      "metadata": {}
    }
  ],
  "metadata": {
    "kernelspec": {
      "name": "python310-sdkv2",
      "language": "python",
      "display_name": "Python 3.10 - SDK v2"
    },
    "language_info": {
      "name": "python",
      "version": "3.10.18",
      "mimetype": "text/x-python",
      "codemirror_mode": {
        "name": "ipython",
        "version": 3
      },
      "pygments_lexer": "ipython3",
      "nbconvert_exporter": "python",
      "file_extension": ".py"
    },
    "microsoft": {
      "ms_spell_check": {
        "ms_spell_check_language": "en"
      }
    },
    "kernel_info": {
      "name": "python310-sdkv2"
    },
    "nteract": {
      "version": "nteract-front-end@1.0.0"
    }
  },
  "nbformat": 4,
  "nbformat_minor": 2
}